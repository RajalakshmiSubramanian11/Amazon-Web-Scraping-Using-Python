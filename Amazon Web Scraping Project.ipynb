{
 "cells": [
  {
   "cell_type": "code",
   "execution_count": 1,
   "id": "7643bc47",
   "metadata": {},
   "outputs": [],
   "source": [
    "# import libraries \n",
    "\n",
    "from bs4 import BeautifulSoup\n",
    "import requests\n",
    "import time\n",
    "import datetime\n",
    "import smtplib"
   ]
  },
  {
   "cell_type": "code",
   "execution_count": 16,
   "id": "15f95804",
   "metadata": {},
   "outputs": [
    {
     "name": "stdout",
     "output_type": "stream",
     "text": [
      "\n",
      "                    Marc Jacobs Women's The Leather Small Tote Bag\n",
      "                   \n",
      "\n",
      "                                $359.00\n",
      "                               \n"
     ]
    }
   ],
   "source": [
    "# Connect to Website and pull in data\n",
    "\n",
    "URL = 'https://www.amazon.com/Marc-Jacobs-Womens-Traveler-Black/dp/B08R7844BN/ref=sr_1_55?dib=eyJ2IjoiMSJ9.jUq8jc3iqakEbkrhlfWr1p7jpmimyar3KQPYosGz1INgzbT7aiqL4Ve_IOX6rDDsFlDORRLsw8zcKJWl2vBIgAewgPfp80Z8VFlTZ1P8pcVAj2r5i5LBVUiNuF33EVt6sFNHEH1vaUgl5TnvgC8kTmVV2mjWB9ZgZw3E5tx-nTmcV58K4HStyKiJXC5ynPG7C7y3p4myGod1hQpRUAajNuH5rUs_lEU12oE_2Y9PDhTnacNsGyXBziCeFwjlMhBoPMRV0eYLkvvG62gsECavz2lxtvYOiQtTqzA67ycmJL8.tZ724QnQ46xbDsvDHWjqvpEYRF1bUt_8JHdb2-oMKYc&dib_tag=se&qid=1713681722&s=fashion-womens-intl-ship&sr=1-55'\n",
    "\n",
    "headers =  {\"User-Agent\": \"Mozilla/5.0 (Windows NT 10.0; Win64; x64) AppleWebKit/537.36 (KHTML, like Gecko) Chrome/123.0.0.0 Safari/537.36\"}\n",
    "\n",
    "page = requests.get(URL, headers=headers)\n",
    "\n",
    "soup1 = BeautifulSoup(page.content, \"html.parser\")\n",
    "\n",
    "soup2 = BeautifulSoup(soup1.prettify(), \"html.parser\")\n",
    "\n",
    "title = soup2.find(\"span\", attrs={\"id\":'productTitle'}).text\n",
    "\n",
    "price = soup2.find(\"span\", attrs={\"class\":'a-price a-text-price a-size-medium'}).find(\"span\", attrs={\"class\": \"a-offscreen\"}).text\n",
    "\n",
    "print(title)\n",
    "print(price)"
   ]
  },
  {
   "cell_type": "code",
   "execution_count": 17,
   "id": "c1e91406",
   "metadata": {},
   "outputs": [
    {
     "name": "stdout",
     "output_type": "stream",
     "text": [
      "Marc Jacobs Women's The Leather Small Tote Bag\n",
      "359.00\n"
     ]
    }
   ],
   "source": [
    "# Clean up the data a little bit\n",
    "\n",
    "title = title.strip()\n",
    "\n",
    "price = price.strip()[1:]\n",
    "\n",
    "print(title)\n",
    "print(price)"
   ]
  },
  {
   "cell_type": "code",
   "execution_count": 18,
   "id": "ad40dcc4",
   "metadata": {},
   "outputs": [
    {
     "name": "stdout",
     "output_type": "stream",
     "text": [
      "2024-04-22\n"
     ]
    }
   ],
   "source": [
    "# Create a Timestamp to track when data was collected\n",
    "\n",
    "import datetime\n",
    "\n",
    "today = datetime.date.today()\n",
    "\n",
    "print(today)"
   ]
  },
  {
   "cell_type": "code",
   "execution_count": 19,
   "id": "abbd4f09",
   "metadata": {},
   "outputs": [],
   "source": [
    "# Create CSV and write headers and data into the file\n",
    "\n",
    "import csv\n",
    "\n",
    "header = ['Title', 'Price', 'Date']\n",
    "data = [title, price, today]\n",
    "\n",
    "with open('AmazonWebScrapingDataset.csv', 'w', newline = '', encoding = 'UTF8')as f:\n",
    "    writer = csv.writer(f)\n",
    "    writer.writerow(header)\n",
    "    writer.writerow(data)"
   ]
  },
  {
   "cell_type": "code",
   "execution_count": 20,
   "id": "7472e632",
   "metadata": {},
   "outputs": [
    {
     "name": "stdout",
     "output_type": "stream",
     "text": [
      "                                            Title  Price        Date\n",
      "0  Marc Jacobs Women's The Leather Small Tote Bag  359.0  2024-04-22\n"
     ]
    }
   ],
   "source": [
    "# View CSV data\n",
    "\n",
    "import pandas as pd\n",
    "\n",
    "df = pd.read_csv(r'C:\\Users\\HP\\AmazonWebScrapingDataset.csv')\n",
    "\n",
    "print(df)"
   ]
  },
  {
   "cell_type": "code",
   "execution_count": 21,
   "id": "907301fd",
   "metadata": {},
   "outputs": [],
   "source": [
    "# Now we are appending data to the csv\n",
    "\n",
    "with open('AmazonWebScrapingDataset.csv', 'a+', newline = '', encoding = 'UTF8')as f:\n",
    "    writer = csv.writer(f)\n",
    "    writer.writerow(data)"
   ]
  },
  {
   "cell_type": "code",
   "execution_count": 22,
   "id": "51c0c8f2",
   "metadata": {},
   "outputs": [],
   "source": [
    "# Combine all of the above code into one function\n",
    "\n",
    "def check_price():\n",
    "    URL = 'https://www.amazon.com/Marc-Jacobs-Womens-Traveler-Black/dp/B08R7844BN/ref=sr_1_55?dib=eyJ2IjoiMSJ9.jUq8jc3iqakEbkrhlfWr1p7jpmimyar3KQPYosGz1INgzbT7aiqL4Ve_IOX6rDDsFlDORRLsw8zcKJWl2vBIgAewgPfp80Z8VFlTZ1P8pcVAj2r5i5LBVUiNuF33EVt6sFNHEH1vaUgl5TnvgC8kTmVV2mjWB9ZgZw3E5tx-nTmcV58K4HStyKiJXC5ynPG7C7y3p4myGod1hQpRUAajNuH5rUs_lEU12oE_2Y9PDhTnacNsGyXBziCeFwjlMhBoPMRV0eYLkvvG62gsECavz2lxtvYOiQtTqzA67ycmJL8.tZ724QnQ46xbDsvDHWjqvpEYRF1bUt_8JHdb2-oMKYc&dib_tag=se&qid=1713681722&s=fashion-womens-intl-ship&sr=1-55'\n",
    "    headers =  {\"User-Agent\": \"Mozilla/5.0 (Windows NT 10.0; Win64; x64) AppleWebKit/537.36 (KHTML, like Gecko) Chrome/123.0.0.0 Safari/537.36\"}\n",
    "    page = requests.get(URL, headers=headers)\n",
    "\n",
    "    soup1 = BeautifulSoup(page.content, \"html.parser\")\n",
    "    soup2 = BeautifulSoup(soup1.prettify(), \"html.parser\")\n",
    "\n",
    "    title = soup2.find(\"span\", attrs={\"id\":'productTitle'}).text\n",
    "    price = soup2.find(\"span\", attrs={\"class\":'a-price a-text-price a-size-medium'}).find(\"span\", attrs={\"class\": \"a-offscreen\"}).text\n",
    "    \n",
    "    title = title.strip()\n",
    "    price = price.strip()[1:]\n",
    "\n",
    "    import datetime\n",
    "    today = datetime.date.today()\n",
    "\n",
    "    import csv\n",
    "\n",
    "    header = ['Title', 'Price', 'Date']\n",
    "    data = [title, price, today]\n",
    "\n",
    "    with open('AmazonWebScrapingDataset.csv', 'w', newline = '', encoding = 'UTF8')as f:\n",
    "        writer = csv.writer(f)\n",
    "        writer.writerow(data)\n",
    "        \n",
    "        # if(price < 250):\n",
    "      #  send_mail()"
   ]
  },
  {
   "cell_type": "code",
   "execution_count": null,
   "id": "7670360d",
   "metadata": {},
   "outputs": [],
   "source": [
    "# Runs check_price after a set time and inputs data into the CSV\n",
    "\n",
    "while(True):\n",
    "    check_price()\n",
    "    time.sleep(86400)  #repeats daily"
   ]
  },
  {
   "cell_type": "code",
   "execution_count": null,
   "id": "e577f909",
   "metadata": {},
   "outputs": [],
   "source": [
    "# View CSV data\n",
    "\n",
    "import pandas as pd\n",
    "\n",
    "df = pd.read_csv(r'C:\\Users\\HP\\AmazonWebScrapingDataset.csv')\n",
    "\n",
    "print(df)"
   ]
  },
  {
   "cell_type": "code",
   "execution_count": null,
   "id": "46092b06",
   "metadata": {},
   "outputs": [],
   "source": [
    "# In case I want to get an email when the price goes down\n",
    "\n",
    "def send_mail():\n",
    "    server = smtplib.SMTP_SSL('smtp.gmail.com',465)\n",
    "    server.ehlo()\n",
    "    #server.starttls()\n",
    "    server.ehlo()\n",
    "    server.login('candy-gmail@outlook.com','xxxxxxxxxxx')\n",
    "    \n",
    "    subject = \"That bag you were looking at is now below $250!\"\n",
    "    body = \"Raji, This is the moment you have been waiting for. The product is at a reduced price!   \n",
    "    msg = f\"Subject: {subject}\\n\\n{body}\"\n",
    "    \n",
    "    server.sendmail(\n",
    "        'candy-gmail@outlook.com',\n",
    "        msg\n",
    "     \n",
    "    )"
   ]
  }
 ],
 "metadata": {
  "kernelspec": {
   "display_name": "Python 3 (ipykernel)",
   "language": "python",
   "name": "python3"
  },
  "language_info": {
   "codemirror_mode": {
    "name": "ipython",
    "version": 3
   },
   "file_extension": ".py",
   "mimetype": "text/x-python",
   "name": "python",
   "nbconvert_exporter": "python",
   "pygments_lexer": "ipython3",
   "version": "3.11.4"
  }
 },
 "nbformat": 4,
 "nbformat_minor": 5
}
